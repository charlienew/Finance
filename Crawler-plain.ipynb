{
 "cells": [
  {
   "cell_type": "code",
   "execution_count": 1,
   "metadata": {
    "collapsed": true
   },
   "outputs": [],
   "source": [
    "import numpy as np\n",
    "import requests  \n",
    "from bs4 import BeautifulSoup  \n",
    "import bs4  \n",
    "import re  \n",
    "import traceback  \n",
    "from setuptools.package_index import HREF \n",
    "from lxml import etree\n",
    "class StockCode(object):\n",
    "    def __init__(self):\n",
    "        self.start_url = \"http://quote.eastmoney.com/stocklist.html#sh\"\n",
    "        self.headers = {\n",
    "            \"User-Agent\": \":Mozilla/5.0 (Windows NT 6.1; WOW64) AppleWebKit/537.36 (KHTML, like Gecko) Chrome/59.0.3071.115 Safari/537.36\"\n",
    "        }\n",
    "\n",
    "    def parse_url(self):\n",
    "        response = requests.get(self.start_url, headers=self.headers)\n",
    "        if response.status_code == 200:\n",
    "            return etree.HTML(response.content)\n",
    "\n",
    "    def get_code_list(self, response):\n",
    "        node_list = response.xpath('//*[@id=\"quotesearch\"]/ul[1]/li')\n",
    "        code_list = []\n",
    "        for node in node_list:\n",
    "            try:\n",
    "                code = re.match(r'.*?\\((\\d+)\\)', etree.tostring(node).decode()).group(1)\n",
    "                print(code)\n",
    "                code_list.append(code)\n",
    "            except:\n",
    "                continue\n",
    "        return code_list\n",
    "\n",
    "    def run(self):\n",
    "        html = self.parse_url()\n",
    "        return self.get_code_list(html)\n",
    "\n",
    "class Download_HistoryStock(object):\n",
    "    import codecs\n",
    "\n",
    "    def __init__(self, code):\n",
    "        self.code = code\n",
    "        self.start_url = \"http://quotes.money.163.com/trade/lsjysj_\" + self.code + \".html\"\n",
    "        print(self.start_url)\n",
    "        self.headers = {\n",
    "            \"User-Agent\": \":Mozilla/5.0 (Windows NT 6.1; WOW64) AppleWebKit/537.36 (KHTML, like Gecko) Chrome/59.0.3071.115 Safari/537.36\"}\n",
    "\n",
    "    def parse_url(self):\n",
    "\n",
    "        response = requests.get(self.start_url)\n",
    "        print(response.status_code)\n",
    "        if response.status_code == 200:\n",
    "            return etree.HTML(response.content)\n",
    "        return False\n",
    "\n",
    "    def get_date(self, response):\n",
    "        start_date = ''.join(response.xpath('//input[@name=\"date_start_type\"]/@value')[0].split('-'))\n",
    "        end_date = ''.join(response.xpath('//input[@name=\"date_end_type\"]/@value')[0].split('-'))\n",
    "        return start_date,end_date\n",
    "\n",
    "    def download(self, start_date, end_date):\n",
    "        print('Now downloading stock code:',self.code)\n",
    "        \n",
    "        download_url = \"http://quotes.money.163.com/service/chddata.html?code=0\"+self.code+\"&start=\"+start_date+\"&end=\"+end_date+\"&fields=TCLOSE;HIGH;LOW;TOPEN;LCLOSE;CHG;PCHG;TURNOVER;VOTURNOVER;VATURNOVER;TCAP;MCAP\"\n",
    "        data = requests.get(download_url)\n",
    "        data.encoding = ''\n",
    "        title = 'D:/data/' + self.code + '.csv'\n",
    "        f = open(title, 'wb')\n",
    "\n",
    "        for chunk in data.iter_content(chunk_size=10000):\n",
    "            if chunk:\n",
    "                f.write(chunk)\n",
    "                \n",
    "        f.close()\n",
    "        \n",
    "        print('Download completed')\n",
    "\n",
    "    def run(self):\n",
    "        try:\n",
    "            self.download('20170101', '20171231')\n",
    "        except Exception as e:\n",
    "            print(e)"
   ]
  },
  {
   "cell_type": "code",
   "execution_count": null,
   "metadata": {
    "collapsed": true
   },
   "outputs": [],
   "source": [
    "code=StockCode()\n",
    "code_list = code.run()#get all stock codes\n",
    "code_list_sz = [code for code in code_list if int(code)>=600000 and int(code)<=699999]\n",
    "print(code_list_sz)#we only download stock codes start with '60'"
   ]
  },
  {
   "cell_type": "code",
   "execution_count": null,
   "metadata": {
    "collapsed": true
   },
   "outputs": [],
   "source": [
    "for code in code_list_sz:\n",
    "    download = Download_HistoryStock(code)#download all stocks starting with '60'\n",
    "    download.run()"
   ]
  }
 ],
 "metadata": {
  "kernelspec": {
   "display_name": "Python 3",
   "language": "python",
   "name": "python3"
  },
  "language_info": {
   "codemirror_mode": {
    "name": "ipython",
    "version": 3
   },
   "file_extension": ".py",
   "mimetype": "text/x-python",
   "name": "python",
   "nbconvert_exporter": "python",
   "pygments_lexer": "ipython3",
   "version": "3.6.3"
  }
 },
 "nbformat": 4,
 "nbformat_minor": 2
}
